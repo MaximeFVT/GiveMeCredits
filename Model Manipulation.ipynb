{
 "cells": [
  {
   "cell_type": "code",
   "execution_count": 2,
   "metadata": {},
   "outputs": [],
   "source": [
    "# Import des libraries\n",
    "\n",
    "from bigml.api import BigML\n",
    "import pandas\n",
    "from pandas import read_csv\n",
    "import matplotlib"
   ]
  },
  {
   "cell_type": "code",
   "execution_count": 3,
   "metadata": {},
   "outputs": [],
   "source": [
    "# Modification du fichier Train de Kaggle\n",
    "\n",
    "df = read_csv('https://oml-data.s3.amazonaws.com/kaggle-give-me-credit-train.csv', index_col=0)\n",
    "df = df.fillna(0)\n",
    "df['MonthlyPerPerson'] = df['MonthlyIncome'] / ( df['NumberOfDependents'] + 1 )\n",
    "df.loc[df.age > 80, 'isOld'] = '1' \n",
    "df.loc[df.age <= 80, 'isOld'] = '0' \n",
    "df.to_csv('train_full.csv')"
   ]
  },
  {
   "cell_type": "code",
   "execution_count": 5,
   "metadata": {},
   "outputs": [],
   "source": [
    "# Connexion au projet via l'API de BIG ML\n",
    "\n",
    "api = BigML('MAXIMEFAVOT', '69757fb108f0bd7a8678e0b66e3de66ae6478c81', project='project/5d9e081659f5c320e1000597')"
   ]
  },
  {
   "cell_type": "code",
   "execution_count": 6,
   "metadata": {},
   "outputs": [],
   "source": [
    "# Creation des sources sur BigML\n",
    "\n",
    "source_train = api.create_source('train_full.csv')\n",
    "trainfull_dataset = api.create_dataset(source_train)"
   ]
  },
  {
   "cell_type": "code",
   "execution_count": 7,
   "metadata": {},
   "outputs": [],
   "source": [
    "# Création du split 80/20\n",
    "\n",
    "train_dataset = api.create_dataset(\n",
    "    trainfull_dataset, {\"name\": \"Training_split\", \"sample_rate\": 0.8, \"seed\": \"my seed\"})\n",
    "test_dataset = api.create_dataset(\n",
    "    trainfull_dataset, {\"name\": \"Test_split\", \"sample_rate\": 0.8, \"seed\": \"my seed\", \"out_of_bag\": True})"
   ]
  },
  {
   "cell_type": "code",
   "execution_count": 8,
   "metadata": {},
   "outputs": [],
   "source": [
    "# Création du modele Ensemble\n",
    "\n",
    "ensemble = api.create_ensemble(train_dataset, {\"name\": \"ensemble\", \"objective_field\": \"SeriousDlqin2yrs\"})"
   ]
  },
  {
   "cell_type": "code",
   "execution_count": 9,
   "metadata": {},
   "outputs": [],
   "source": [
    "# Batch Prediction et Download\n",
    "\n",
    "batch_prediction = api.create_batch_prediction(ensemble, test_dataset,{\"all_fields\": True, \"probabilities\": True})"
   ]
  },
  {
   "cell_type": "code",
   "execution_count": 11,
   "metadata": {},
   "outputs": [
    {
     "data": {
      "text/plain": [
       "'Prediction2.csv'"
      ]
     },
     "execution_count": 11,
     "metadata": {},
     "output_type": "execute_result"
    }
   ],
   "source": [
    "api.download_batch_prediction(batch_prediction, filename='Prediction2.csv')"
   ]
  },
  {
   "cell_type": "code",
   "execution_count": 13,
   "metadata": {},
   "outputs": [
    {
     "name": "stdout",
     "output_type": "stream",
     "text": [
      "0.93557\n",
      "0.85479\n",
      "[[27711, 274], [1659, 356]]\n"
     ]
    }
   ],
   "source": [
    "evaluation = api.create_evaluation(ensemble, test_dataset)\n",
    "api.ok(evaluation)\n",
    "api.pprint(evaluation['object']['result']['model']['accuracy'])\n",
    "api.pprint(evaluation['object']['result']['model']['average_area_under_roc_curve'])\n",
    "api.pprint(evaluation['object']['result']['model']['confusion_matrix'])"
   ]
  }
 ],
 "metadata": {
  "kernelspec": {
   "display_name": "Python 3",
   "language": "python",
   "name": "python3"
  },
  "language_info": {
   "codemirror_mode": {
    "name": "ipython",
    "version": 3
   },
   "file_extension": ".py",
   "mimetype": "text/x-python",
   "name": "python",
   "nbconvert_exporter": "python",
   "pygments_lexer": "ipython3",
   "version": "3.7.3"
  },
  "widgets": {
   "application/vnd.jupyter.widget-state+json": {
    "state": {},
    "version_major": 2,
    "version_minor": 0
   }
  }
 },
 "nbformat": 4,
 "nbformat_minor": 2
}
