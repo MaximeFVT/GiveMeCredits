{
 "cells": [
  {
   "cell_type": "code",
   "execution_count": 28,
   "metadata": {},
   "outputs": [],
   "source": [
    "from bigml.api import BigML\n",
    "from pandas import DataFrame\n",
    "import matplotlib.pyplot as plt"
   ]
  },
  {
   "cell_type": "code",
   "execution_count": 7,
   "metadata": {},
   "outputs": [],
   "source": [
    "# Connexion au projet via l'API de BIG ML\n",
    "\n",
    "api = BigML('MAXIMEFAVOT', '69757fb108f0bd7a8678e0b66e3de66ae6478c81', project='project/5dc023dcfb7bdd2dcf000374')"
   ]
  },
  {
   "cell_type": "code",
   "execution_count": 8,
   "metadata": {},
   "outputs": [],
   "source": [
    "# Creation des sources sur BigML\n",
    "\n",
    "source_train = api.create_source('https://oml-data.s3.amazonaws.com/kaggle-give-me-credit-train.csv')"
   ]
  },
  {
   "cell_type": "code",
   "execution_count": 9,
   "metadata": {},
   "outputs": [],
   "source": [
    "# On crée un dataset à partir de la source puis on split (Val et Test)\n",
    "\n",
    "train_full = api.create_dataset(source_train, {\"name\": \"Train Full\"})\n",
    "val_set = api.create_dataset(train_full, {\"name\": \"Val_set\", \"sample_rate\": 0.8, \"seed\": \"my seed\"})\n",
    "test_set = api.create_dataset(train_full, {\"name\": \"Test_set\", \"sample_rate\": 0.8 , \"seed\": \"my seed\", \"out_of_bag\": True})"
   ]
  },
  {
   "cell_type": "code",
   "execution_count": 10,
   "metadata": {},
   "outputs": [
    {
     "name": "stdout",
     "output_type": "stream",
     "text": [
      "[10, 20, 30, 40, 50, 60, 70, 80, 90, 100]\n",
      "[0.83256, 0.84551, 0.85047, 0.85209, 0.85215, 0.85402, 0.85466, 0.85534, 0.85346, 0.85384]\n",
      "[10, 20, 30, 40, 50, 60, 70, 80, 90, 100]\n",
      "[0.83256, 0.84551, 0.85047, 0.85209, 0.85215, 0.85402, 0.85466, 0.85534, 0.85346, 0.85384]\n"
     ]
    }
   ],
   "source": [
    "# creation des listes vides pour contenir l'abscisse (taille du dataset) et l'ordonnée (AUC) pour le modele ensemble et deepnet\n",
    "\n",
    "x_ensemble = []\n",
    "y_ensemble = []\n",
    "x_deepnet = []\n",
    "y_deepnet = []\n",
    "\n",
    "for i in range(1,11): # On fait une boucle pour faire varier de 10 à 100 % de lignes du dataset Val_set\n",
    "   \n",
    "    # On crée le nouveau dataset de train à partir du dataset de train initial\n",
    "    train_set = api.create_dataset(val_set, {\"name\": \"Train Set \" + str(i/10), \"sample_rate\": i/10, \"seed\": \"my seed\"})\n",
    "    api.ok(val_set)   \n",
    "   \n",
    "    # On crée le modèle (ensemble) à partir du train_set\n",
    "    ensemble = api.create_ensemble(train_set, {\"objective_field\" : \"SeriousDlqin2yrs\", \"name\": \"Ensemble \" + str(i/10)})\n",
    "    api.ok(ensemble)\n",
    "   \n",
    "    # On évalue le modèle ensemble (avec le test_set)\n",
    "    evaluation = api.create_evaluation(ensemble, test_set)\n",
    "    api.ok(evaluation)\n",
    "   \n",
    "    # On crée le modèle (deepnet) à partir du train_set\n",
    "    deepnet = api.create_deepnet(train_set, {\"objective_field\" : \"SeriousDlqin2yrs\", \"name\": \"Deepnet \" + str(i/10)})\n",
    "    api.ok(deepnet)\n",
    "   \n",
    "    # On évalue le modèle deepnet (avec le test_set)\n",
    "    evaluation_deepnet = api.create_evaluation(deepnet, test_set)\n",
    "    api.ok(evaluation_deepnet)\n",
    "\n",
    "    # On stocke dans une liste la valeur de l'axe des abscisses (graph_x) et la valeur de l'AUC (graph_y) à partir de la donnée BigML\n",
    "    x_ensemble.append(i*10)\n",
    "    y_ensemble.append(evaluation['object']['result']['model']['per_class_statistics'][1]['area_under_roc_curve'])\n",
    "    \n",
    "    x_deepnet.append(i*10)\n",
    "    y_deepnet.append(evaluation['object']['result']['model']['per_class_statistics'][1]['area_under_roc_curve'])\n",
    "    \n",
    "    # On itere de 1 le compteur i et on recommence la boucle\n",
    "    i += 1 \n",
    "\n",
    "# On imprime les resultats\n",
    "    \n",
    "print(x_ensemble)\n",
    "print(y_ensemble)\n",
    "print(x_deepnet)\n",
    "print(y_deepnet)"
   ]
  },
  {
   "cell_type": "code",
   "execution_count": 11,
   "metadata": {},
   "outputs": [
    {
     "data": {
      "text/plain": [
       "['eval_maxime.joblib']"
      ]
     },
     "execution_count": 11,
     "metadata": {},
     "output_type": "execute_result"
    }
   ],
   "source": [
    "from joblib import dump\n",
    "\n",
    "eval_maxime = [x_ensemble, y_ensemble, y_deepnet]\n",
    "\n",
    "dump(eval_maxime, 'eval_maxime.joblib')"
   ]
  },
  {
   "cell_type": "code",
   "execution_count": 37,
   "metadata": {},
   "outputs": [],
   "source": [
    "from joblib import load\n",
    "eval_christophe = load('eval_christophe.joblib')\n",
    "eval_laurent = load('eval_laurent.joblib')\n",
    "eval_maud = load('eval_maud.joblib')"
   ]
  },
  {
   "cell_type": "code",
   "execution_count": 30,
   "metadata": {},
   "outputs": [],
   "source": [
    "# # Methode Christophe\n",
    "\n",
    "# df=DataFrame(eval_christophe[0])\n",
    "# df['y_ensemble_christophe']=eval_christophe[1]\n",
    "# df['y_ensemble_maxime']=eval_maxime[1]\n",
    "# df['y_ensemble_laurent']=eval_laurent[1]\n",
    "# df['y_ensemble_maud']=eval_maud[1]\n",
    "\n",
    "# df2=DataFrame(eval_christophe[1])\n",
    "# df2['y_ensemble_maxime']=eval_maxime[1]\n",
    "# df2['y_ensemble_laurent']=eval_laurent[1]\n",
    "# df2['y_ensemble_maud']=eval_maud[1]\n",
    "\n",
    "# df['ensemble_moyenne']=df2.mean(axis=1)\n",
    "\n",
    "# df['y_deepnet_christophe']=eval_christophe[2]\n",
    "# df['y_deepnet_maxime']=eval_maxime[2]\n",
    "# df['y_deepnet_laurent']=eval_laurent[2]\n",
    "# df['y_deepnet_maud']=eval_maud[2]\n",
    "\n",
    "# df3=DataFrame(eval_christophe[2])\n",
    "# df3['y_ensemble_maxime']=eval_maxime[2]\n",
    "# df3['y_ensemble_laurent']=eval_laurent[2]\n",
    "# df3['y_ensemble_maud']=eval_maud[2]\n",
    "\n",
    "\n",
    "# df['ensemble_deepnet']=df3.mean(axis=1)\n"
   ]
  },
  {
   "cell_type": "code",
   "execution_count": 35,
   "metadata": {},
   "outputs": [
    {
     "name": "stdout",
     "output_type": "stream",
     "text": [
      "[0.8282875000000001, 0.8395199999999999, 0.8455625, 0.845455, 0.847555, 0.8449574999999999, 0.8477150000000001, 0.847545, 0.8500724999999999, 0.84999]\n"
     ]
    }
   ],
   "source": [
    "# Methode 2\n",
    "\n",
    "#on creer des listes vides\n",
    "\n",
    "y_ensemble = []\n",
    "y_deepnet = []\n",
    "y_ensemble_mean = []\n",
    "y_deepnet_mean = []\n",
    "\n",
    "i=0\n",
    "\n",
    "# on itere dans la colonne [1] ou [2] les lignes de 1 à 10\n",
    "for i in range(10): \n",
    "    \n",
    "    y_ensemble = (eval_christophe[1][i] + eval_maxime[1][i] + eval_laurent[1][i] + eval_maud[1][i])/4\n",
    "    \n",
    "    y_deepnet = (eval_christophe[2][i] + eval_maxime[2][i] + eval_laurent[2][i] + eval_maud[2][i])/4\n",
    "    \n",
    "# On insert les moyennes dans les listes de moyennes\n",
    "    \n",
    "    y_ensemble_mean.append(y_ensemble)\n",
    "    \n",
    "    y_deepnet_mean.append(y_deepnet)\n",
    "    \n",
    "print(y_deepnet_mean)"
   ]
  },
  {
   "cell_type": "code",
   "execution_count": 39,
   "metadata": {},
   "outputs": [
    {
     "data": {
      "text/html": [
       "<div>\n",
       "<style scoped>\n",
       "    .dataframe tbody tr th:only-of-type {\n",
       "        vertical-align: middle;\n",
       "    }\n",
       "\n",
       "    .dataframe tbody tr th {\n",
       "        vertical-align: top;\n",
       "    }\n",
       "\n",
       "    .dataframe thead th {\n",
       "        text-align: right;\n",
       "    }\n",
       "</style>\n",
       "<table border=\"1\" class=\"dataframe\">\n",
       "  <thead>\n",
       "    <tr style=\"text-align: right;\">\n",
       "      <th></th>\n",
       "      <th>y_ensemble_mean</th>\n",
       "      <th>y_deepnet_mean</th>\n",
       "    </tr>\n",
       "  </thead>\n",
       "  <tbody>\n",
       "    <tr>\n",
       "      <td>10</td>\n",
       "      <td>0.831378</td>\n",
       "      <td>0.828288</td>\n",
       "    </tr>\n",
       "    <tr>\n",
       "      <td>20</td>\n",
       "      <td>0.845490</td>\n",
       "      <td>0.839520</td>\n",
       "    </tr>\n",
       "    <tr>\n",
       "      <td>30</td>\n",
       "      <td>0.849105</td>\n",
       "      <td>0.845562</td>\n",
       "    </tr>\n",
       "    <tr>\n",
       "      <td>40</td>\n",
       "      <td>0.850753</td>\n",
       "      <td>0.845455</td>\n",
       "    </tr>\n",
       "    <tr>\n",
       "      <td>50</td>\n",
       "      <td>0.852147</td>\n",
       "      <td>0.847555</td>\n",
       "    </tr>\n",
       "    <tr>\n",
       "      <td>60</td>\n",
       "      <td>0.853158</td>\n",
       "      <td>0.844957</td>\n",
       "    </tr>\n",
       "    <tr>\n",
       "      <td>70</td>\n",
       "      <td>0.853875</td>\n",
       "      <td>0.847715</td>\n",
       "    </tr>\n",
       "    <tr>\n",
       "      <td>80</td>\n",
       "      <td>0.854495</td>\n",
       "      <td>0.847545</td>\n",
       "    </tr>\n",
       "    <tr>\n",
       "      <td>90</td>\n",
       "      <td>0.854315</td>\n",
       "      <td>0.850072</td>\n",
       "    </tr>\n",
       "    <tr>\n",
       "      <td>100</td>\n",
       "      <td>0.854775</td>\n",
       "      <td>0.849990</td>\n",
       "    </tr>\n",
       "  </tbody>\n",
       "</table>\n",
       "</div>"
      ],
      "text/plain": [
       "     y_ensemble_mean  y_deepnet_mean\n",
       "10          0.831378        0.828288\n",
       "20          0.845490        0.839520\n",
       "30          0.849105        0.845562\n",
       "40          0.850753        0.845455\n",
       "50          0.852147        0.847555\n",
       "60          0.853158        0.844957\n",
       "70          0.853875        0.847715\n",
       "80          0.854495        0.847545\n",
       "90          0.854315        0.850072\n",
       "100         0.854775        0.849990"
      ]
     },
     "execution_count": 39,
     "metadata": {},
     "output_type": "execute_result"
    }
   ],
   "source": [
    "mean_lmcm = DataFrame({'y_ensemble_mean': y_ensemble_mean, 'y_deepnet_mean': y_deepnet_mean},\n",
    "                      index = eval_maud[0])\n",
    "\n",
    "mean_lmcm"
   ]
  },
  {
   "cell_type": "code",
   "execution_count": null,
   "metadata": {},
   "outputs": [],
   "source": [
    "fig, ax = plt.subplots()\n",
    "ax.plot(\"\", y_ensemble, label='Modèle Ensemble')\n",
    "ax.plot(x_deepnet, y_deepnet, label='Modèle Deepnet')\n",
    "ax.set(xlabel='% du train_set', ylabel='AUC',  title='Learning Curve AUC / % Train Set')\n",
    "plt.legend(bbox_to_anchor=(1.2, 1), loc='best', borderaxespad=0.)\n",
    "ax.grid()\n",
    "plt.show()"
   ]
  }
 ],
 "metadata": {
  "kernelspec": {
   "display_name": "Python 3",
   "language": "python",
   "name": "python3"
  },
  "language_info": {
   "codemirror_mode": {
    "name": "ipython",
    "version": 3
   },
   "file_extension": ".py",
   "mimetype": "text/x-python",
   "name": "python",
   "nbconvert_exporter": "python",
   "pygments_lexer": "ipython3",
   "version": "3.7.4"
  }
 },
 "nbformat": 4,
 "nbformat_minor": 2
}
