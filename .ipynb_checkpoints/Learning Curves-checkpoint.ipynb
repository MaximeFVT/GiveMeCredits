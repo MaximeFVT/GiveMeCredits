{
 "cells": [
  {
   "cell_type": "code",
   "execution_count": 16,
   "metadata": {},
   "outputs": [],
   "source": [
    "# Import des libraries\n",
    "\n",
    "from bigml.api import BigML\n",
    "import pandas\n",
    "from pandas import read_csv\n",
    "import matplotlib"
   ]
  },
  {
   "cell_type": "code",
   "execution_count": 17,
   "metadata": {},
   "outputs": [],
   "source": [
    "# Modification du fichier Train de Kaggle\n",
    "\n",
    "df = read_csv('https://oml-data.s3.amazonaws.com/kaggle-give-me-credit-train.csv', index_col=0)\n",
    "df = df.fillna(0)\n",
    "df['MonthlyPerPerson'] = df['MonthlyIncome'] / ( df['NumberOfDependents'] + 1 )\n",
    "df.loc[df.age > 80, 'isOld'] = '1' \n",
    "df.loc[df.age <= 80, 'isOld'] = '0' \n",
    "df.to_csv('train_full.csv')"
   ]
  },
  {
   "cell_type": "code",
   "execution_count": 18,
   "metadata": {},
   "outputs": [],
   "source": [
    "# Connexion au projet via l'API de BIG ML\n",
    "\n",
    "api = BigML('MAXIMEFAVOT', '69757fb108f0bd7a8678e0b66e3de66ae6478c81', project='project/5d9e081659f5c320e1000597')"
   ]
  },
  {
   "cell_type": "code",
   "execution_count": 13,
   "metadata": {},
   "outputs": [],
   "source": [
    "# Creation des sources sur BigML\n",
    "\n",
    "source_train = api.create_source('train_full.csv')\n",
    "trainfull_dataset = api.create_dataset(source_train)"
   ]
  },
  {
   "cell_type": "code",
   "execution_count": 19,
   "metadata": {},
   "outputs": [],
   "source": [
    "# # Création du split 80/20\n",
    "\n",
    "# train_dataset = api.create_dataset(\n",
    "#     trainfull_dataset, {\"name\": \"Training_split\", \"sample_rate\": 0.8, \"seed\": \"my seed\"})\n",
    "# test_dataset = api.create_dataset(\n",
    "#     trainfull_dataset, {\"name\": \"Test_split\", \"sample_rate\": 0.8, \"seed\": \"my seed\", \"out_of_bag\": True})"
   ]
  },
  {
   "cell_type": "code",
   "execution_count": 22,
   "metadata": {},
   "outputs": [],
   "source": [
    "# On crée un dataset à partir de la source puis on split (DATASET de TRAIN)\n",
    "dataset_train_full = api.create_dataset(source_train, {\"name\": \"Dataset Train Full\"})\n",
    "dataset_train_train = api.create_dataset(dataset_train_full, {\"name\": \"Dataset Train Train\", \"sample_rate\": 0.8, \"seed\": \"my seed\"})\n",
    "dataset_train_test = api.create_dataset(dataset_train_full, {\"name\": \"Dataset Train Test\", \"sample_rate\": 0.8 , \"seed\": \"my seed\", \"out_of_bag\": True})\n",
    "\n",
    "# # On crée un dataset à partir de la source (DATASET de TEST)\n",
    "# dataset_test = api.create_dataset(source_test, {\"name\": \"Dataset Test\"})\n",
    "# api.ok(dataset_test)"
   ]
  },
  {
   "cell_type": "code",
   "execution_count": 23,
   "metadata": {},
   "outputs": [
    {
     "name": "stdout",
     "output_type": "stream",
     "text": [
      "[10, 20, 30, 40, 50, 60, 70, 80, 90, 100]\n",
      "[0.83088, 0.84653, 0.84945, 0.85107, 0.85134, 0.85367, 0.85394, 0.85406, 0.85394, 0.85487]\n",
      "[10, 20, 30, 40, 50, 60, 70, 80, 90, 100]\n",
      "[0.82371, 0.83378, 0.83609, 0.82779, 0.83799, 0.82628, 0.83932, 0.83344, 0.84197, 0.8364]\n"
     ]
    },
    {
     "data": {
      "text/plain": [
       "<Figure size 640x480 with 1 Axes>"
      ]
     },
     "metadata": {},
     "output_type": "display_data"
    }
   ],
   "source": [
    "# Learning Curves\n",
    "graph_x = []\n",
    "graph_y = []\n",
    "graph_x_deepnet = []\n",
    "graph_y_deepnet = []\n",
    "\n",
    "for i in range(1,11): # On boucle sur l'axe des abscisses / Taille du dataset de train / % de ligne du dataset de train_train\n",
    "   \n",
    "    # On crée le nouveau dataset de train à partir du dataset de train initial\n",
    "    dataset_train_train_split = api.create_dataset(dataset_train_train, {\"name\": \"Dataset Train Train \" + str(i/10), \"sample_rate\": i/10, \"seed\": \"my seed\"})\n",
    "    api.ok(dataset_train_train)    \n",
    "   \n",
    "    # On crée le modèle (ensemble) à partir du dataset split\n",
    "    ensemble = api.create_ensemble(dataset_train_train_split, {\"objective_field\" : \"SeriousDlqin2yrs\", \"name\": \"Ensemble \" + str(i/10)})\n",
    "    api.ok(ensemble)\n",
    "   \n",
    "    # On évalue le nouveau modèle (ensemble)\n",
    "    evaluation = api.create_evaluation(ensemble, dataset_train_test)\n",
    "    api.ok(evaluation)\n",
    "   \n",
    "    # On crée le modèle (deepnet) à partir du dataset split\n",
    "    deepnet = api.create_deepnet(dataset_train_train_split, {\"objective_field\" : \"SeriousDlqin2yrs\", \"name\": \"Deepnet \" + str(i/10)})\n",
    "    api.ok(deepnet)\n",
    "   \n",
    "    # On évalue le nouveau modèle (deepnet)\n",
    "    evaluation_deepnet = api.create_evaluation(deepnet, dataset_train_test)\n",
    "    api.ok(evaluation_deepnet)\n",
    "\n",
    "    # On stocke dans une liste la valeur de l'axe des abscisses (graph_x) et la valeur de l'AUC (graph_y) à partir de la donnée BigML\n",
    "    graph_x.append(i*10)\n",
    "    graph_y.append(evaluation['object']['result']['model']['average_area_under_roc_curve'])\n",
    "    \n",
    "    graph_x_deepnet.append(i*10)\n",
    "    graph_y_deepnet.append(evaluation_deepnet['object']['result']['model']['average_area_under_roc_curve'])\n",
    "    i += 1\n",
    "\n",
    "print(graph_x)\n",
    "print(graph_y)\n",
    "print(graph_x_deepnet)\n",
    "print(graph_y_deepnet)\n",
    "\n",
    "import matplotlib.pyplot as plt\n",
    "fig, ax = plt.subplots()\n",
    "ax.plot(graph_x, graph_y)\n",
    "ax.set(xlabel='Taille du dataset en % du dataset_traint_train', ylabel='AUC',  title='Learning Curve (AUC / % Split)')\n",
    "ax.grid()\n",
    "plt.show()"
   ]
  },
  {
   "cell_type": "code",
   "execution_count": 24,
   "metadata": {},
   "outputs": [
    {
     "data": {
      "image/png": "[encoded data removed]",
      "text/plain": [
       "<Figure size 432x288 with 1 Axes>"
      ]
     },
     "metadata": {
      "needs_background": "light"
     },
     "output_type": "display_data"
    }
   ],
   "source": [
    "import matplotlib.pyplot as plt\n",
    "fig, ax = plt.subplots()\n",
    "ax.plot(graph_x, graph_y, label='Ensemble')\n",
    "ax.plot(graph_x_deepnet, graph_y_deepnet, label='Deepnet')\n",
    "ax.set(xlabel='Taille du dataset en % du dataset_traint_train', ylabel='AUC',  title='Learning Curve (AUC / % Split)')\n",
    "plt.legend(bbox_to_anchor=(1.05, 1), loc='best', borderaxespad=0.)\n",
    "ax.grid()\n",
    "plt.show()\n"
   ]
  },
  {
   "cell_type": "code",
   "execution_count": null,
   "metadata": {},
   "outputs": [],
   "source": []
  }
 ],
 "metadata": {
  "kernelspec": {
   "display_name": "Python 3",
   "language": "python",
   "name": "python3"
  },
  "language_info": {
   "codemirror_mode": {
    "name": "ipython",
    "version": 3
   },
   "file_extension": ".py",
   "mimetype": "text/x-python",
   "name": "python",
   "nbconvert_exporter": "python",
   "pygments_lexer": "ipython3",
   "version": "3.7.4"
  },
  "widgets": {
   "application/vnd.jupyter.widget-state+json": {
    "state": {},
    "version_major": 2,
    "version_minor": 0
   }
  }
 },
 "nbformat": 4,
 "nbformat_minor": 2
}
