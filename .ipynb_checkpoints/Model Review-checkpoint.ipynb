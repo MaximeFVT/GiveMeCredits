{
 "cells": [
  {
   "cell_type": "code",
   "execution_count": 8,
   "metadata": {},
   "outputs": [],
   "source": [
    "# Fonctions\n",
    "\n",
    "def threshold(row):\n",
    "    if row['1 probability'] < threshold_value:\n",
    "        prediction_value = 0\n",
    "    else: \n",
    "        prediction_value = 1\n",
    "    return prediction_value\n",
    "\n",
    "def error_column(row):\n",
    "    if(row['SeriousDlqin2yrs'] == 0 and row['prediction'] == 0):\n",
    "        error_value = 'TN'\n",
    "    if(row['SeriousDlqin2yrs'] == 1 and row['prediction'] == 0):\n",
    "        error_value = 'FN'\n",
    "    if(row['SeriousDlqin2yrs'] == 0 and row['prediction'] == 1):\n",
    "        error_value = 'FP'\n",
    "    if(row['SeriousDlqin2yrs'] == 1 and row['prediction'] == 1):\n",
    "        error_value = 'TP'\n",
    "    return error_value\n",
    "\n",
    "def confusion_matrix():\n",
    "    idx = pandas.Index(df['error'])\n",
    "    count_matrix = idx.value_counts() \n",
    "    return count_matrix\n",
    "\n",
    "def get_accuracy():\n",
    "    matrix = list(df.error.values)\n",
    "    tn = matrix.count('TN')\n",
    "    fn = matrix.count('FN')\n",
    "    tp = matrix.count('TP')\n",
    "    fp = matrix.count('FP')\n",
    "    total = tn + fn + tp + fp\n",
    "    accuracy = ((tp + tn ) / total ) * 100\n",
    "    return accuracy\n",
    "\n",
    "def get_profits():\n",
    "    matrix = list(df.error.values)\n",
    "    val_tn = 500\n",
    "    val_fn = -2500\n",
    "    val_tp = 0\n",
    "    val_fp = -500\n",
    "    profits = matrix.count('TN') * val_tn + matrix.count('FN') * val_fn + matrix.count('TP') * val_tp + matrix.count('FP') * val_fp\n",
    "    return profits\n",
    "\n",
    "# On cherche parmis les FN ( Prediction = 0 , Réalité  = 1 ) les plus petites 1 Proba ( Le modele prédisait quasi certainement 0)\n",
    "def biggest_mistakes():\n",
    "    filtered = df.loc[df['error'].isin([\"FN\"])]\n",
    "    filtered = (filtered.nsmallest(100, '1 probability'))\n",
    "    filtered.to_csv(\"100_biggest_mistakes.csv\")\n",
    "    return filtered"
   ]
  },
  {
   "cell_type": "code",
   "execution_count": 5,
   "metadata": {},
   "outputs": [
    {
     "name": "stdout",
     "output_type": "stream",
     "text": [
      "Load & Modifications : OK\n"
     ]
    }
   ],
   "source": [
    "# Chargement de la feuille csv & applications des modifications\n",
    "import pandas\n",
    "\n",
    "df = pandas.read_csv('Prediction2.csv', index_col=0)\n",
    "df.rename(columns={\"SeriousDlqin2yrs.1\": \"prediction\"}, inplace= True)\n",
    "df['prediction'] = df.apply(threshold, axis = 1)\n",
    "df['error'] = df.apply(error_column, axis = 1)\n",
    "print(\"Load & Modifications : OK\")"
   ]
  },
  {
   "cell_type": "code",
   "execution_count": 4,
   "metadata": {},
   "outputs": [],
   "source": [
    "# Définition du seuil\n",
    "\n",
    "threshold_value = 0.5"
   ]
  },
  {
   "cell_type": "code",
   "execution_count": 9,
   "metadata": {},
   "outputs": [
    {
     "data": {
      "text/plain": [
       "TN    27711\n",
       "FN     1659\n",
       "TP      356\n",
       "FP      274\n",
       "Name: error, dtype: int64"
      ]
     },
     "execution_count": 9,
     "metadata": {},
     "output_type": "execute_result"
    }
   ],
   "source": [
    "# Matrice de confusion\n",
    "\n",
    "confusion_matrix()"
   ]
  },
  {
   "cell_type": "code",
   "execution_count": 10,
   "metadata": {},
   "outputs": [
    {
     "data": {
      "text/plain": [
       "93.55666666666667"
      ]
     },
     "execution_count": 10,
     "metadata": {},
     "output_type": "execute_result"
    }
   ],
   "source": [
    "# Accuracy\n",
    "\n",
    "get_accuracy()"
   ]
  },
  {
   "cell_type": "code",
   "execution_count": 11,
   "metadata": {},
   "outputs": [
    {
     "data": {
      "text/plain": [
       "9571000"
      ]
     },
     "execution_count": 11,
     "metadata": {},
     "output_type": "execute_result"
    }
   ],
   "source": [
    "# Profits\n",
    "\n",
    "get_profits()"
   ]
  },
  {
   "cell_type": "code",
   "execution_count": 13,
   "metadata": {},
   "outputs": [
    {
     "name": "stdout",
     "output_type": "stream",
     "text": [
      "Enregistrement du fichier .csv en local :  OK\n"
     ]
    }
   ],
   "source": [
    "# 100 plus grosses erreurs de notre modèle ( Parmis les FN , + petites 1 proba)\n",
    "\n",
    "biggest_mistakes()\n",
    "print(\"Enregistrement du fichier .csv en local :  OK\")"
   ]
  },
  {
   "cell_type": "code",
   "execution_count": 14,
   "metadata": {},
   "outputs": [],
   "source": [
    "# fonction(threshold) = profits\n",
    "\n",
    "def cost_threshold(threshold):\n",
    "    # Return True si 1 Proba > seuil & False si 1 Proba < seuil\n",
    "    prediction_threshold = df['1 probability'] > threshold\n",
    "    \n",
    "    P_pred = prediction_threshold # Renvoie True si 1 proba > seuil ( sinon False )\n",
    "    N_pred = ~prediction_threshold # Renvoie True si 1 proba < seuil ( sinon False )\n",
    "    \n",
    "    P_real = (df['SeriousDlqin2yrs'] == 1) # Renvoie True si SeriousDlqin2Yrs == 1 ( sinon False )\n",
    "    N_real = (df['SeriousDlqin2yrs'] == 0) # Renvoie True si SeriousDlqin2Yrs == 0 ( sinon False )\n",
    "    \n",
    "    # P_pred True si 1 proba > seuil Prediction =  1 , P_real True si Realite = 1 \n",
    "    TP = len(df.loc[P_pred & P_real])\n",
    "    # N_pred True = si 1 proba < seuil = Prediction = 0 , N_real True si Realité 0 \n",
    "    TN = len(df.loc[N_pred & N_real])\n",
    "    # P_pred True si 1 proba > seuil Prediction = 1 , N_real True si Réalite = 0\n",
    "    FP = len(df.loc[P_pred & N_real])\n",
    "    # N_pred True si 1 proba < seuil =  Prediction 0 , P_real True si Realité = 1\n",
    "    FN = len(df.loc[N_pred & P_real])\n",
    "    \n",
    "    TP_cost = 0\n",
    "    FN_cost = -2500\n",
    "    FP_cost = -500\n",
    "    TN_cost = 500\n",
    "    \n",
    "    cost = TP * TP_cost\n",
    "    cost += TN * TN_cost\n",
    "    cost += FP * FP_cost\n",
    "    cost += FN * FN_cost\n",
    "    \n",
    "    return cost"
   ]
  },
  {
   "cell_type": "code",
   "execution_count": 15,
   "metadata": {},
   "outputs": [
    {
     "name": "stdout",
     "output_type": "stream",
     "text": [
      "gain max 9951000 $ | Seuil 0.282\n"
     ]
    }
   ],
   "source": [
    "# Graphique et affichage du seuil opti\n",
    "\n",
    "import matplotlib.pyplot as plt\n",
    "# on fait varier le seuil de 0 à 1000 / 1000 => 0.0001 , 0.0002 ... 1 dans la fonction seuil => gain\n",
    "table = [cost_threshold(n/1000) for n in range(0,1000)]\n",
    "plt.xlabel(\"seuil/1000\")\n",
    "plt.ylabel(\"Gains\")\n",
    "plt.title(\"GiveMeCredit - Kaggle\")\n",
    "\n",
    "plt.plot(table)\n",
    "\n",
    "max_val = max(table)\n",
    "max_threshold = table.index(max_val)/1000\n",
    "print(f'gain max {max_val} $ | Seuil {max_threshold}')"
   ]
  },
  {
   "cell_type": "code",
   "execution_count": null,
   "metadata": {},
   "outputs": [],
   "source": []
  }
 ],
 "metadata": {
  "kernelspec": {
   "display_name": "Python 3",
   "language": "python",
   "name": "python3"
  },
  "language_info": {
   "codemirror_mode": {
    "name": "ipython",
    "version": 3
   },
   "file_extension": ".py",
   "mimetype": "text/x-python",
   "name": "python",
   "nbconvert_exporter": "python",
   "pygments_lexer": "ipython3",
   "version": "3.7.3"
  },
  "widgets": {
   "application/vnd.jupyter.widget-state+json": {
    "state": {},
    "version_major": 2,
    "version_minor": 0
   }
  }
 },
 "nbformat": 4,
 "nbformat_minor": 2
}
